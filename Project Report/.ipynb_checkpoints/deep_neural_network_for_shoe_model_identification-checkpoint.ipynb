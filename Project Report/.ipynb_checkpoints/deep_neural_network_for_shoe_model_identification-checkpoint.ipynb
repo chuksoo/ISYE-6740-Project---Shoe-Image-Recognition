{
 "cells": [
  {
   "cell_type": "code",
   "execution_count": null,
   "id": "b8c82589",
   "metadata": {
    "execution": {
     "iopub.execute_input": "2023-07-31T23:22:22.004561Z",
     "iopub.status.busy": "2023-07-31T23:22:22.004142Z",
     "iopub.status.idle": "2023-07-31T23:22:46.302919Z",
     "shell.execute_reply": "2023-07-31T23:22:46.301817Z"
    },
    "papermill": {
     "duration": 24.31281,
     "end_time": "2023-07-31T23:22:46.306174",
     "exception": false,
     "start_time": "2023-07-31T23:22:21.993364",
     "status": "completed"
    },
    "tags": []
   },
   "outputs": [],
   "source": []
  },
  {
   "cell_type": "code",
   "execution_count": 3,
   "id": "90112e02",
   "metadata": {
    "_cell_guid": "b1076dfc-b9ad-4769-8c92-a6c4dae69d19",
    "_uuid": "8f2839f25d086af736a60e9eeb907d3b93b6e0e5",
    "execution": {
     "iopub.execute_input": "2023-07-31T23:22:46.330722Z",
     "iopub.status.busy": "2023-07-31T23:22:46.330356Z",
     "iopub.status.idle": "2023-07-31T23:22:46.566787Z",
     "shell.execute_reply": "2023-07-31T23:22:46.565736Z"
    },
    "papermill": {
     "duration": 0.25128,
     "end_time": "2023-07-31T23:22:46.569222",
     "exception": false,
     "start_time": "2023-07-31T23:22:46.317942",
     "status": "completed"
    },
    "tags": []
   },
   "outputs": [
    {
     "ename": "ModuleNotFoundError",
     "evalue": "No module named 'cv2'",
     "output_type": "error",
     "traceback": [
      "\u001b[0;31m---------------------------------------------------------------------------\u001b[0m",
      "\u001b[0;31mModuleNotFoundError\u001b[0m                       Traceback (most recent call last)",
      "Cell \u001b[0;32mIn[3], line 3\u001b[0m\n\u001b[1;32m      1\u001b[0m \u001b[38;5;28;01mimport\u001b[39;00m \u001b[38;5;21;01mos\u001b[39;00m\n\u001b[1;32m      2\u001b[0m \u001b[38;5;28;01mimport\u001b[39;00m \u001b[38;5;21;01mglob\u001b[39;00m\n\u001b[0;32m----> 3\u001b[0m \u001b[38;5;28;01mimport\u001b[39;00m \u001b[38;5;21;01mcv2\u001b[39;00m\n\u001b[1;32m      4\u001b[0m \u001b[38;5;28;01mimport\u001b[39;00m \u001b[38;5;21;01mnumpy\u001b[39;00m \u001b[38;5;28;01mas\u001b[39;00m \u001b[38;5;21;01mnp\u001b[39;00m\n\u001b[1;32m      5\u001b[0m \u001b[38;5;28;01mimport\u001b[39;00m \u001b[38;5;21;01mmatplotlib\u001b[39;00m\u001b[38;5;21;01m.\u001b[39;00m\u001b[38;5;21;01mpyplot\u001b[39;00m \u001b[38;5;28;01mas\u001b[39;00m \u001b[38;5;21;01mplt\u001b[39;00m\n",
      "\u001b[0;31mModuleNotFoundError\u001b[0m: No module named 'cv2'"
     ]
    }
   ],
   "source": [
    "import os\n",
    "import glob\n",
    "import cv2\n",
    "import numpy as np\n",
    "import matplotlib.pyplot as plt\n",
    "\n",
    "#Strips & imports all the image file paths image array\n",
    "def image_extractor(root_dir,image_array,image_labels,label,categories):\n",
    "    C = []\n",
    "    for subdir, dirs, files in os.walk(root_dir):\n",
    "        for file in files:\n",
    "            if file.endswith('.jpg'):\n",
    "                jpg_file_path = os.path.join(subdir, file)\n",
    "                image_array.append(jpg_file_path)\n",
    "                image_labels.append(label)\n",
    "                "
   ]
  },
  {
   "cell_type": "code",
   "execution_count": 2,
   "id": "8f48d125",
   "metadata": {
    "execution": {
     "iopub.execute_input": "2023-07-31T23:22:46.589009Z",
     "iopub.status.busy": "2023-07-31T23:22:46.588637Z",
     "iopub.status.idle": "2023-07-31T23:23:04.507274Z",
     "shell.execute_reply": "2023-07-31T23:23:04.505778Z"
    },
    "papermill": {
     "duration": 17.9317,
     "end_time": "2023-07-31T23:23:04.509400",
     "exception": false,
     "start_time": "2023-07-31T23:22:46.577700",
     "status": "completed"
    },
    "tags": []
   },
   "outputs": [
    {
     "ename": "ModuleNotFoundError",
     "evalue": "No module named 'cv2'",
     "output_type": "error",
     "traceback": [
      "\u001b[0;31m---------------------------------------------------------------------------\u001b[0m",
      "\u001b[0;31mModuleNotFoundError\u001b[0m                       Traceback (most recent call last)",
      "Cell \u001b[0;32mIn[2], line 4\u001b[0m\n\u001b[1;32m      2\u001b[0m \u001b[38;5;28;01mimport\u001b[39;00m \u001b[38;5;21;01mmatplotlib\u001b[39;00m\u001b[38;5;21;01m.\u001b[39;00m\u001b[38;5;21;01mpyplot\u001b[39;00m \u001b[38;5;28;01mas\u001b[39;00m \u001b[38;5;21;01mplt\u001b[39;00m\n\u001b[1;32m      3\u001b[0m \u001b[38;5;28;01mimport\u001b[39;00m \u001b[38;5;21;01mos\u001b[39;00m\n\u001b[0;32m----> 4\u001b[0m \u001b[38;5;28;01mimport\u001b[39;00m \u001b[38;5;21;01mcv2\u001b[39;00m\n\u001b[1;32m      5\u001b[0m \u001b[38;5;28;01mfrom\u001b[39;00m \u001b[38;5;21;01mtqdm\u001b[39;00m \u001b[38;5;28;01mimport\u001b[39;00m tqdm\n\u001b[1;32m      6\u001b[0m \u001b[38;5;28;01mimport\u001b[39;00m \u001b[38;5;21;01mos\u001b[39;00m\n",
      "\u001b[0;31mModuleNotFoundError\u001b[0m: No module named 'cv2'"
     ]
    }
   ],
   "source": [
    "import numpy as np\n",
    "import matplotlib.pyplot as plt\n",
    "import os\n",
    "import cv2\n",
    "from tqdm import tqdm\n",
    "import os\n",
    "import glob\n",
    "import cv2\n",
    "import numpy as np\n",
    "import matplotlib.pyplot as plt\n",
    "\n",
    "directory = '/Users/vivibanh/Downloads/kaggle/input/large-shoe-dataset-ut-zappos50k/ut-zap50k-images-square/ut-zap50k-images-square'\n",
    "subDirectories = ['Boots','Sandals','Shoes','Slippers']\n",
    "categories = []\n",
    "image_array=[]\n",
    "image_labels=[]\n",
    "\n",
    "for category in subDirectories:\n",
    "    path = os.path.join(directory,category) #Path to a certain directory\n",
    "    label = os.path.basename(path)\n",
    "    print(\"Label Part 1:\",label)\n",
    "    for category1 in os.listdir(path):\n",
    "        subpath = os.path.join(path,category1)\n",
    "        sublabel = os.path.basename(subpath)+\" \"+label\n",
    "        print (\"Label:\",sublabel)\n",
    "        categories.append(sublabel)\n",
    "        image_extractor(subpath,image_array,image_labels,sublabel,categories)\n",
    "        print(\"1 \",subpath)\n",
    "    \n",
    "print(image_array[0])\n",
    "print(image_labels[0])\n",
    "print(\"Images Length:\",len(image_array))\n",
    "print(\"Labels Length:\",len(image_labels))\n",
    "print(categories)"
   ]
  },
  {
   "cell_type": "code",
   "execution_count": null,
   "id": "e2398feb",
   "metadata": {
    "execution": {
     "iopub.execute_input": "2023-07-31T23:23:04.529518Z",
     "iopub.status.busy": "2023-07-31T23:23:04.529221Z",
     "iopub.status.idle": "2023-07-31T23:23:13.264085Z",
     "shell.execute_reply": "2023-07-31T23:23:13.263056Z"
    },
    "papermill": {
     "duration": 8.747455,
     "end_time": "2023-07-31T23:23:13.266264",
     "exception": false,
     "start_time": "2023-07-31T23:23:04.518809",
     "status": "completed"
    },
    "tags": []
   },
   "outputs": [],
   "source": [
    "import pandas as pd\n",
    "import numpy as np \n",
    "import pandas as pd\n",
    "import os\n",
    "from pathlib import Path\n",
    "from sklearn.model_selection import train_test_split \n",
    "from keras.preprocessing.image import ImageDataGenerator\n",
    "from tensorflow import keras\n",
    "from tensorflow.keras.models import Sequential\n",
    "from tensorflow.keras.layers import Dense, Dropout, Flatten, Conv2D, MaxPooling2D\n",
    "from tensorflow.keras.optimizers import Adam\n",
    "from tensorflow.keras.losses import SparseCategoricalCrossentropy\n",
    "import tensorflow as tf\n",
    "import matplotlib.pyplot as plt\n",
    "\n",
    "# load label file\n",
    "filepaths = pd.Series(image_array, name='ImagePaths').astype(str)\n",
    "Labels = pd.Series(image_labels, name='Labels').astype(str)\n",
    "\n",
    "img_df = pd.merge(filepaths, Labels, right_index = True, left_index = True)\n",
    "img_df.head()"
   ]
  },
  {
   "cell_type": "code",
   "execution_count": null,
   "id": "c49ace21",
   "metadata": {
    "execution": {
     "iopub.execute_input": "2023-07-31T23:23:13.288149Z",
     "iopub.status.busy": "2023-07-31T23:23:13.286457Z",
     "iopub.status.idle": "2023-07-31T23:23:13.325497Z",
     "shell.execute_reply": "2023-07-31T23:23:13.324690Z"
    },
    "papermill": {
     "duration": 0.051966,
     "end_time": "2023-07-31T23:23:13.327782",
     "exception": false,
     "start_time": "2023-07-31T23:23:13.275816",
     "status": "completed"
    },
    "tags": []
   },
   "outputs": [
    {
     "ename": "",
     "evalue": "",
     "output_type": "error",
     "traceback": [
      "\u001b[1;31mFailed to start the Kernel. \n",
      "\u001b[1;31mKernel Python 3.10.0 is not usable. Check the Jupyter output tab for more information. \n",
      "\u001b[1;31mView Jupyter <a href='command:jupyter.viewOutput'>log</a> for further details."
     ]
    }
   ],
   "source": [
    "# check labels\n",
    "img_df = img_df.groupby('Labels').filter(lambda x : len(x)>=10)\n",
    "img_df['Labels'].value_counts(ascending=True)"
   ]
  },
  {
   "cell_type": "code",
   "execution_count": null,
   "id": "12619258",
   "metadata": {
    "execution": {
     "iopub.execute_input": "2023-07-31T23:23:13.348487Z",
     "iopub.status.busy": "2023-07-31T23:23:13.347694Z",
     "iopub.status.idle": "2023-07-31T23:23:13.387189Z",
     "shell.execute_reply": "2023-07-31T23:23:13.386046Z"
    },
    "papermill": {
     "duration": 0.051962,
     "end_time": "2023-07-31T23:23:13.389397",
     "exception": false,
     "start_time": "2023-07-31T23:23:13.337435",
     "status": "completed"
    },
    "tags": []
   },
   "outputs": [
    {
     "ename": "",
     "evalue": "",
     "output_type": "error",
     "traceback": [
      "\u001b[1;31mFailed to start the Kernel. \n",
      "\u001b[1;31mKernel Python 3.10.0 is not usable. Check the Jupyter output tab for more information. \n",
      "\u001b[1;31mView Jupyter <a href='command:jupyter.viewOutput'>log</a> for further details."
     ]
    }
   ],
   "source": [
    "# show label information\n",
    "img_df.info()"
   ]
  },
  {
   "cell_type": "code",
   "execution_count": null,
   "id": "2493ecc9",
   "metadata": {
    "execution": {
     "iopub.execute_input": "2023-07-31T23:23:13.409959Z",
     "iopub.status.busy": "2023-07-31T23:23:13.409685Z",
     "iopub.status.idle": "2023-07-31T23:23:13.413769Z",
     "shell.execute_reply": "2023-07-31T23:23:13.412905Z"
    },
    "papermill": {
     "duration": 0.016645,
     "end_time": "2023-07-31T23:23:13.415783",
     "exception": false,
     "start_time": "2023-07-31T23:23:13.399138",
     "status": "completed"
    },
    "tags": []
   },
   "outputs": [
    {
     "ename": "",
     "evalue": "",
     "output_type": "error",
     "traceback": [
      "\u001b[1;31mFailed to start the Kernel. \n",
      "\u001b[1;31mKernel Python 3.10.0 is not usable. Check the Jupyter output tab for more information. \n",
      "\u001b[1;31mView Jupyter <a href='command:jupyter.viewOutput'>log</a> for further details."
     ]
    }
   ],
   "source": [
    "# Define the image size you want for the model input\n",
    "img_height = 224\n",
    "img_width = 224\n",
    "# Training batch size\n",
    "batch_size = 32"
   ]
  },
  {
   "cell_type": "code",
   "execution_count": null,
   "id": "a8fec844",
   "metadata": {
    "execution": {
     "iopub.execute_input": "2023-07-31T23:23:13.437421Z",
     "iopub.status.busy": "2023-07-31T23:23:13.437124Z",
     "iopub.status.idle": "2023-07-31T23:23:13.541016Z",
     "shell.execute_reply": "2023-07-31T23:23:13.539965Z"
    },
    "papermill": {
     "duration": 0.117766,
     "end_time": "2023-07-31T23:23:13.543663",
     "exception": false,
     "start_time": "2023-07-31T23:23:13.425897",
     "status": "completed"
    },
    "tags": []
   },
   "outputs": [
    {
     "ename": "",
     "evalue": "",
     "output_type": "error",
     "traceback": [
      "\u001b[1;31mFailed to start the Kernel. \n",
      "\u001b[1;31mKernel Python 3.10.0 is not usable. Check the Jupyter output tab for more information. \n",
      "\u001b[1;31mView Jupyter <a href='command:jupyter.viewOutput'>log</a> for further details."
     ]
    }
   ],
   "source": [
    "# Split the DataFrame into train, test and validation sets\n",
    "train_ratio = 0.7\n",
    "validation_ratio = 0.15\n",
    "test_ratio = 0.15\n",
    "\n",
    "x_train, x_test = train_test_split(img_df, test_size=1 - train_ratio, stratify=img_df['Labels'])\n",
    "x_val, x_test = train_test_split(x_test, test_size=test_ratio/(test_ratio + validation_ratio),stratify=x_test['Labels']) \n",
    "\n",
    "print(f'Shape of Training Data : ',x_train.shape)\n",
    "print(f'Shape of Testing Data : ',x_test.shape)\n",
    "print(f'Shape of Validation Data : ',x_val.shape)\n",
    "x_test = x_test.copy()"
   ]
  },
  {
   "cell_type": "code",
   "execution_count": null,
   "id": "dedc87c8",
   "metadata": {
    "execution": {
     "iopub.execute_input": "2023-07-31T23:23:13.564438Z",
     "iopub.status.busy": "2023-07-31T23:23:13.564139Z",
     "iopub.status.idle": "2023-07-31T23:23:41.718471Z",
     "shell.execute_reply": "2023-07-31T23:23:41.717149Z"
    },
    "papermill": {
     "duration": 28.167294,
     "end_time": "2023-07-31T23:23:41.720718",
     "exception": false,
     "start_time": "2023-07-31T23:23:13.553424",
     "status": "completed"
    },
    "tags": []
   },
   "outputs": [
    {
     "ename": "",
     "evalue": "",
     "output_type": "error",
     "traceback": [
      "\u001b[1;31mFailed to start the Kernel. \n",
      "\u001b[1;31mKernel Python 3.10.0 is not usable. Check the Jupyter output tab for more information. \n",
      "\u001b[1;31mView Jupyter <a href='command:jupyter.viewOutput'>log</a> for further details."
     ]
    }
   ],
   "source": [
    "# Create ImageDataGenerator for data augmentation and normalization\n",
    "img_datagen = ImageDataGenerator(\n",
    "    preprocessing_function=tf.keras.applications.mobilenet_v2.preprocess_input)\n",
    "img_size=(224, 224)      \n",
    "\n",
    "# Flow from DataFrame for training data\n",
    "x_train = img_datagen.flow_from_dataframe(\n",
    "    dataframe = x_train, \n",
    "    x_col='ImagePaths', \n",
    "    y_col='Labels', \n",
    "    target_size=img_size, \n",
    "    color_mode='rgb',\n",
    "    class_mode='categorical',\n",
    "    batch_size=32,seed=42\n",
    ")\n",
    "\n",
    "# Flow from DataFrame for test data\n",
    "x_test = img_datagen.flow_from_dataframe(\n",
    "    dataframe = x_test, \n",
    "    x_col='ImagePaths', \n",
    "    y_col='Labels', \n",
    "    target_size=img_size,\n",
    "    color_mode='rgb',\n",
    "    class_mode='categorical',\n",
    "    batch_size=32,seed=42\n",
    ")\n",
    "\n",
    "# Flow from DataFrame for validation data\n",
    "x_val = img_datagen.flow_from_dataframe(\n",
    "    dataframe = x_val, \n",
    "    x_col='ImagePaths', \n",
    "    y_col='Labels', \n",
    "    target_size=img_size, \n",
    "    color_mode='rgb',\n",
    "    class_mode='categorical',\n",
    "    batch_size=32,seed=42\n",
    ")\n",
    "\n",
    "# Check the classes and class indices\n",
    "print(\"Classes: \", x_train.class_indices)"
   ]
  },
  {
   "cell_type": "code",
   "execution_count": null,
   "id": "020620ce",
   "metadata": {
    "execution": {
     "iopub.execute_input": "2023-07-31T23:23:41.743917Z",
     "iopub.status.busy": "2023-07-31T23:23:41.743066Z",
     "iopub.status.idle": "2023-07-31T23:23:41.749221Z",
     "shell.execute_reply": "2023-07-31T23:23:41.747747Z"
    },
    "papermill": {
     "duration": 0.019451,
     "end_time": "2023-07-31T23:23:41.751369",
     "exception": false,
     "start_time": "2023-07-31T23:23:41.731918",
     "status": "completed"
    },
    "tags": []
   },
   "outputs": [
    {
     "ename": "",
     "evalue": "",
     "output_type": "error",
     "traceback": [
      "\u001b[1;31mFailed to start the Kernel. \n",
      "\u001b[1;31mKernel Python 3.10.0 is not usable. Check the Jupyter output tab for more information. \n",
      "\u001b[1;31mView Jupyter <a href='command:jupyter.viewOutput'>log</a> for further details."
     ]
    }
   ],
   "source": [
    "# get classes\n",
    "class_names = list(x_train.class_indices.keys())\n",
    "print(class_names)"
   ]
  },
  {
   "cell_type": "code",
   "execution_count": null,
   "id": "9ceb37ec",
   "metadata": {
    "execution": {
     "iopub.execute_input": "2023-07-31T23:23:41.773222Z",
     "iopub.status.busy": "2023-07-31T23:23:41.772287Z",
     "iopub.status.idle": "2023-07-31T23:23:43.614453Z",
     "shell.execute_reply": "2023-07-31T23:23:43.613528Z"
    },
    "papermill": {
     "duration": 1.860624,
     "end_time": "2023-07-31T23:23:43.621951",
     "exception": false,
     "start_time": "2023-07-31T23:23:41.761327",
     "status": "completed"
    },
    "tags": []
   },
   "outputs": [
    {
     "ename": "",
     "evalue": "",
     "output_type": "error",
     "traceback": [
      "\u001b[1;31mFailed to start the Kernel. \n",
      "\u001b[1;31mKernel Python 3.10.0 is not usable. Check the Jupyter output tab for more information. \n",
      "\u001b[1;31mView Jupyter <a href='command:jupyter.viewOutput'>log</a> for further details."
     ]
    }
   ],
   "source": [
    "# Sample function to read and resize images using OpenCV\n",
    "def read_and_resize_image(image_path, target_size):\n",
    "    image = cv2.imread(image_path)\n",
    "    image = cv2.cvtColor(image, cv2.COLOR_BGR2RGB)  # Convert BGR to RGB\n",
    "    image = cv2.resize(image, target_size)\n",
    "    return image\n",
    "\n",
    "# Function to plot images with their labels\n",
    "def plot_images_with_labels(data_df, num_rows=4, num_cols=4):\n",
    "    fig, axes = plt.subplots(num_rows, num_cols, figsize=(10, 10))\n",
    "    for i in range(num_rows):\n",
    "        for j in range(num_cols):\n",
    "            index = i * num_cols + j\n",
    "            img_path = data_df.iloc[index]['ImagePaths']\n",
    "            label = data_df.iloc[index]['Labels']\n",
    "            image = read_and_resize_image(img_path, (128, 128))\n",
    "            axes[i, j].imshow(image)\n",
    "            axes[i, j].set_title(label)\n",
    "            axes[i, j].axis('off')\n",
    "    plt.tight_layout()\n",
    "    plt.show()\n",
    "    \n",
    "plot_images_with_labels(img_df.head(16))"
   ]
  },
  {
   "cell_type": "code",
   "execution_count": null,
   "id": "c0e3085a",
   "metadata": {
    "execution": {
     "iopub.execute_input": "2023-07-31T23:23:43.658275Z",
     "iopub.status.busy": "2023-07-31T23:23:43.657919Z",
     "iopub.status.idle": "2023-07-31T23:23:47.805102Z",
     "shell.execute_reply": "2023-07-31T23:23:47.803075Z"
    },
    "papermill": {
     "duration": 4.171557,
     "end_time": "2023-07-31T23:23:47.810942",
     "exception": false,
     "start_time": "2023-07-31T23:23:43.639385",
     "status": "completed"
    },
    "tags": []
   },
   "outputs": [
    {
     "ename": "",
     "evalue": "",
     "output_type": "error",
     "traceback": [
      "\u001b[1;31mFailed to start the Kernel. \n",
      "\u001b[1;31mKernel Python 3.10.0 is not usable. Check the Jupyter output tab for more information. \n",
      "\u001b[1;31mView Jupyter <a href='command:jupyter.viewOutput'>log</a> for further details."
     ]
    }
   ],
   "source": [
    "model = keras.Sequential([\n",
    "\n",
    "    # First Convolutional Block\n",
    "    tf.keras.layers.Conv2D(filters=32, kernel_size=5, activation=\"relu\", padding='same',\n",
    "                  # give the input dimensions in the first layer\n",
    "                  # [height, width, color channels(RGB)]\n",
    "                 input_shape=[224, 224, 3]),\n",
    "    tf.keras.layers.MaxPool2D(),\n",
    "\n",
    "    # Second Convolutional Block\n",
    "    tf.keras.layers.Conv2D(filters=64, kernel_size=3, activation=\"relu\", padding='same'),\n",
    "    tf.keras.layers.MaxPool2D(),\n",
    "\n",
    "    # Third Convolutional Block\n",
    "    tf.keras.layers.Conv2D(filters=128, kernel_size=3, activation=\"relu\", padding='same'),\n",
    "    tf.keras.layers.MaxPool2D(),\n",
    "\n",
    "    # Classifier Head\n",
    "    tf.keras.layers.Flatten(),\n",
    "    tf.keras.layers.Dense(740, activation=\"relu\"),\n",
    "    tf.keras.layers.Dense(20, activation=\"softmax\"),\n",
    "])\n",
    "\n",
    "model.compile(optimizer=\"adam\",\n",
    "             loss=\"categorical_crossentropy\",\n",
    "             metrics=[\"accuracy\"])"
   ]
  },
  {
   "cell_type": "code",
   "execution_count": null,
   "id": "481d215e",
   "metadata": {
    "execution": {
     "iopub.execute_input": "2023-07-31T23:23:47.864264Z",
     "iopub.status.busy": "2023-07-31T23:23:47.863874Z",
     "iopub.status.idle": "2023-07-31T23:23:47.891120Z",
     "shell.execute_reply": "2023-07-31T23:23:47.890480Z"
    },
    "papermill": {
     "duration": 0.093741,
     "end_time": "2023-07-31T23:23:47.932285",
     "exception": false,
     "start_time": "2023-07-31T23:23:47.838544",
     "status": "completed"
    },
    "tags": []
   },
   "outputs": [
    {
     "ename": "",
     "evalue": "",
     "output_type": "error",
     "traceback": [
      "\u001b[1;31mFailed to start the Kernel. \n",
      "\u001b[1;31mKernel Python 3.10.0 is not usable. Check the Jupyter output tab for more information. \n",
      "\u001b[1;31mView Jupyter <a href='command:jupyter.viewOutput'>log</a> for further details."
     ]
    }
   ],
   "source": [
    "# Model summary\n",
    "model.summary()"
   ]
  },
  {
   "cell_type": "code",
   "execution_count": null,
   "id": "b6a70cf9",
   "metadata": {
    "execution": {
     "iopub.execute_input": "2023-07-31T23:23:47.990276Z",
     "iopub.status.busy": "2023-07-31T23:23:47.989819Z",
     "iopub.status.idle": "2023-07-31T23:23:48.162481Z",
     "shell.execute_reply": "2023-07-31T23:23:48.161578Z"
    },
    "papermill": {
     "duration": 0.204392,
     "end_time": "2023-07-31T23:23:48.165178",
     "exception": false,
     "start_time": "2023-07-31T23:23:47.960786",
     "status": "completed"
    },
    "tags": []
   },
   "outputs": [
    {
     "ename": "",
     "evalue": "",
     "output_type": "error",
     "traceback": [
      "\u001b[1;31mFailed to start the Kernel. \n",
      "\u001b[1;31mKernel Python 3.10.0 is not usable. Check the Jupyter output tab for more information. \n",
      "\u001b[1;31mView Jupyter <a href='command:jupyter.viewOutput'>log</a> for further details."
     ]
    }
   ],
   "source": [
    "import visualkeras\n",
    "visualkeras.layered_view(model, legend=True) "
   ]
  },
  {
   "cell_type": "code",
   "execution_count": null,
   "id": "47256eee",
   "metadata": {
    "execution": {
     "iopub.execute_input": "2023-07-31T23:23:48.225231Z",
     "iopub.status.busy": "2023-07-31T23:23:48.224790Z",
     "iopub.status.idle": "2023-07-31T23:45:53.871190Z",
     "shell.execute_reply": "2023-07-31T23:45:53.870074Z"
    },
    "papermill": {
     "duration": 1325.678706,
     "end_time": "2023-07-31T23:45:53.874030",
     "exception": false,
     "start_time": "2023-07-31T23:23:48.195324",
     "status": "completed"
    },
    "tags": []
   },
   "outputs": [
    {
     "ename": "",
     "evalue": "",
     "output_type": "error",
     "traceback": [
      "\u001b[1;31mFailed to start the Kernel. \n",
      "\u001b[1;31mKernel Python 3.10.0 is not usable. Check the Jupyter output tab for more information. \n",
      "\u001b[1;31mView Jupyter <a href='command:jupyter.viewOutput'>log</a> for further details."
     ]
    }
   ],
   "source": [
    "Callback = tf.keras.callbacks.EarlyStopping(monitor='accuracy', patience=3)\n",
    "model_fit = model.fit(x_train,\n",
    "                      validation_data = x_val, \n",
    "                      epochs = 10, callbacks=Callback)\n"
   ]
  },
  {
   "cell_type": "code",
   "execution_count": null,
   "id": "55983ee2",
   "metadata": {
    "execution": {
     "iopub.execute_input": "2023-07-31T23:45:55.738508Z",
     "iopub.status.busy": "2023-07-31T23:45:55.738143Z",
     "iopub.status.idle": "2023-07-31T23:45:56.206248Z",
     "shell.execute_reply": "2023-07-31T23:45:56.205329Z"
    },
    "papermill": {
     "duration": 1.405404,
     "end_time": "2023-07-31T23:45:56.208425",
     "exception": false,
     "start_time": "2023-07-31T23:45:54.803021",
     "status": "completed"
    },
    "tags": []
   },
   "outputs": [
    {
     "ename": "",
     "evalue": "",
     "output_type": "error",
     "traceback": [
      "\u001b[1;31mFailed to start the Kernel. \n",
      "\u001b[1;31mKernel Python 3.10.0 is not usable. Check the Jupyter output tab for more information. \n",
      "\u001b[1;31mView Jupyter <a href='command:jupyter.viewOutput'>log</a> for further details."
     ]
    }
   ],
   "source": [
    "# Visualize training results\n",
    "epochs = 10\n",
    "acc = model_fit.history['accuracy']\n",
    "val_acc = model_fit.history['val_accuracy']\n",
    "\n",
    "loss = model_fit.history['loss']\n",
    "val_loss = model_fit.history['val_loss']\n",
    "\n",
    "epochs_range = range(epochs)\n",
    "\n",
    "plt.figure(figsize=(18, 8))\n",
    "plt.subplot(1, 2, 1)\n",
    "plt.plot(epochs_range, acc, label='Training Accuracy')\n",
    "plt.plot(epochs_range, val_acc, label='Validation Accuracy')\n",
    "plt.legend(loc='lower right')\n",
    "plt.title('Training and Validation Accuracy')\n",
    "\n",
    "plt.subplot(1, 2, 2)\n",
    "plt.plot(epochs_range, loss, label='Training Loss')\n",
    "plt.plot(epochs_range, val_loss, label='Validation Loss')\n",
    "plt.legend(loc='upper right')\n",
    "plt.title('Training and Validation Loss')\n",
    "plt.show()"
   ]
  },
  {
   "cell_type": "markdown",
   "id": "a79f60a1",
   "metadata": {
    "papermill": {
     "duration": 0.876529,
     "end_time": "2023-07-31T23:45:58.015478",
     "exception": false,
     "start_time": "2023-07-31T23:45:57.138949",
     "status": "completed"
    },
    "tags": []
   },
   "source": [
    "## Dropout"
   ]
  },
  {
   "cell_type": "code",
   "execution_count": null,
   "id": "55b9b90d",
   "metadata": {
    "execution": {
     "iopub.execute_input": "2023-07-31T23:45:59.812350Z",
     "iopub.status.busy": "2023-07-31T23:45:59.811774Z",
     "iopub.status.idle": "2023-07-31T23:45:59.895585Z",
     "shell.execute_reply": "2023-07-31T23:45:59.894614Z"
    },
    "papermill": {
     "duration": 1.01866,
     "end_time": "2023-07-31T23:45:59.897979",
     "exception": false,
     "start_time": "2023-07-31T23:45:58.879319",
     "status": "completed"
    },
    "tags": []
   },
   "outputs": [
    {
     "ename": "",
     "evalue": "",
     "output_type": "error",
     "traceback": [
      "\u001b[1;31mFailed to start the Kernel. \n",
      "\u001b[1;31mKernel Python 3.10.0 is not usable. Check the Jupyter output tab for more information. \n",
      "\u001b[1;31mView Jupyter <a href='command:jupyter.viewOutput'>log</a> for further details."
     ]
    }
   ],
   "source": [
    "dropout_model = keras.Sequential([\n",
    "\n",
    "    # First Convolutional Block\n",
    "    tf.keras.layers.Conv2D(filters=32, kernel_size=5, activation=\"relu\", padding='same',\n",
    "                  # give the input dimensions in the first layer\n",
    "                  # [height, width, color channels(RGB)]\n",
    "                 input_shape=[224, 224, 3]),\n",
    "    tf.keras.layers.MaxPool2D(),\n",
    "\n",
    "    # Second Convolutional Block\n",
    "    tf.keras.layers.Conv2D(filters=64, kernel_size=3, activation=\"relu\", padding='same'),\n",
    "    tf.keras.layers.MaxPool2D(),\n",
    "\n",
    "    # Third Convolutional Block\n",
    "    tf.keras.layers.Conv2D(filters=128, kernel_size=3, activation=\"relu\", padding='same'),\n",
    "    tf.keras.layers.MaxPool2D(),\n",
    "    \n",
    "    # Add 20% dropout\n",
    "    tf.keras.layers.Dropout(0.2),\n",
    "\n",
    "    # Classifier Head\n",
    "    tf.keras.layers.Flatten(),\n",
    "    tf.keras.layers.Dense(740, activation=\"relu\"),\n",
    "    tf.keras.layers.Dense(20, activation=\"softmax\"),\n",
    "])\n",
    "\n",
    "dropout_model.compile(optimizer=\"adam\",\n",
    "             loss=\"categorical_crossentropy\",\n",
    "             metrics=[\"accuracy\"])"
   ]
  },
  {
   "cell_type": "code",
   "execution_count": null,
   "id": "8913000f",
   "metadata": {
    "execution": {
     "iopub.execute_input": "2023-07-31T23:46:01.694300Z",
     "iopub.status.busy": "2023-07-31T23:46:01.693304Z",
     "iopub.status.idle": "2023-07-31T23:46:01.804519Z",
     "shell.execute_reply": "2023-07-31T23:46:01.803448Z"
    },
    "papermill": {
     "duration": 1.042852,
     "end_time": "2023-07-31T23:46:01.807472",
     "exception": false,
     "start_time": "2023-07-31T23:46:00.764620",
     "status": "completed"
    },
    "tags": []
   },
   "outputs": [
    {
     "ename": "",
     "evalue": "",
     "output_type": "error",
     "traceback": [
      "\u001b[1;31mFailed to start the Kernel. \n",
      "\u001b[1;31mKernel Python 3.10.0 is not usable. Check the Jupyter output tab for more information. \n",
      "\u001b[1;31mView Jupyter <a href='command:jupyter.viewOutput'>log</a> for further details."
     ]
    }
   ],
   "source": [
    "# schematic CNN withdropout\n",
    "visualkeras.layered_view(dropout_model, legend=True) "
   ]
  },
  {
   "cell_type": "code",
   "execution_count": null,
   "id": "ef3e5ade",
   "metadata": {
    "execution": {
     "iopub.execute_input": "2023-07-31T23:46:03.621148Z",
     "iopub.status.busy": "2023-07-31T23:46:03.620743Z",
     "iopub.status.idle": "2023-08-01T00:07:12.623075Z",
     "shell.execute_reply": "2023-08-01T00:07:12.622018Z"
    },
    "papermill": {
     "duration": 1271.660887,
     "end_time": "2023-08-01T00:07:14.341521",
     "exception": false,
     "start_time": "2023-07-31T23:46:02.680634",
     "status": "completed"
    },
    "tags": []
   },
   "outputs": [
    {
     "ename": "",
     "evalue": "",
     "output_type": "error",
     "traceback": [
      "\u001b[1;31mFailed to start the Kernel. \n",
      "\u001b[1;31mKernel Python 3.10.0 is not usable. Check the Jupyter output tab for more information. \n",
      "\u001b[1;31mView Jupyter <a href='command:jupyter.viewOutput'>log</a> for further details."
     ]
    }
   ],
   "source": [
    "Callback = tf.keras.callbacks.EarlyStopping(monitor='accuracy', patience=3)\n",
    "dropout_model_fit = dropout_model.fit(x_train,\n",
    "                      validation_data = x_val, \n",
    "                      epochs = 10, callbacks=Callback)\n"
   ]
  },
  {
   "cell_type": "code",
   "execution_count": null,
   "id": "4838d220",
   "metadata": {
    "execution": {
     "iopub.execute_input": "2023-08-01T00:07:17.952783Z",
     "iopub.status.busy": "2023-08-01T00:07:17.952379Z",
     "iopub.status.idle": "2023-08-01T00:07:18.399772Z",
     "shell.execute_reply": "2023-08-01T00:07:18.398899Z"
    },
    "papermill": {
     "duration": 2.233211,
     "end_time": "2023-08-01T00:07:18.402318",
     "exception": false,
     "start_time": "2023-08-01T00:07:16.169107",
     "status": "completed"
    },
    "tags": []
   },
   "outputs": [
    {
     "ename": "",
     "evalue": "",
     "output_type": "error",
     "traceback": [
      "\u001b[1;31mFailed to start the Kernel. \n",
      "\u001b[1;31mKernel Python 3.10.0 is not usable. Check the Jupyter output tab for more information. \n",
      "\u001b[1;31mView Jupyter <a href='command:jupyter.viewOutput'>log</a> for further details."
     ]
    }
   ],
   "source": [
    "# Visualize training results\n",
    "epochs = 10\n",
    "acc = dropout_model_fit.history['accuracy']\n",
    "val_acc = dropout_model_fit.history['val_accuracy']\n",
    "\n",
    "loss = dropout_model_fit.history['loss']\n",
    "val_loss = dropout_model_fit.history['val_loss']\n",
    "\n",
    "epochs_range = range(epochs)\n",
    "\n",
    "plt.figure(figsize=(18, 8))\n",
    "plt.subplot(1, 2, 1)\n",
    "plt.plot(epochs_range, acc, label='Training Accuracy')\n",
    "plt.plot(epochs_range, val_acc, label='Validation Accuracy')\n",
    "plt.legend(loc='lower right')\n",
    "plt.title('Training and Validation Accuracy with 20% dropout')\n",
    "\n",
    "plt.subplot(1, 2, 2)\n",
    "plt.plot(epochs_range, loss, label='Training Loss')\n",
    "plt.plot(epochs_range, val_loss, label='Validation Loss')\n",
    "plt.legend(loc='upper right')\n",
    "plt.title('Training and Validation Loss with 20% dropout')\n",
    "plt.show()"
   ]
  },
  {
   "cell_type": "code",
   "execution_count": null,
   "id": "0826c470",
   "metadata": {
    "papermill": {
     "duration": 1.794936,
     "end_time": "2023-08-01T00:07:21.995589",
     "exception": false,
     "start_time": "2023-08-01T00:07:20.200653",
     "status": "completed"
    },
    "tags": []
   },
   "outputs": [
    {
     "ename": "",
     "evalue": "",
     "output_type": "error",
     "traceback": [
      "\u001b[1;31mFailed to start the Kernel. \n",
      "\u001b[1;31mKernel Python 3.10.0 is not usable. Check the Jupyter output tab for more information. \n",
      "\u001b[1;31mView Jupyter <a href='command:jupyter.viewOutput'>log</a> for further details."
     ]
    }
   ],
   "source": []
  },
  {
   "cell_type": "code",
   "execution_count": null,
   "id": "081a54f0",
   "metadata": {
    "execution": {
     "iopub.execute_input": "2023-08-01T00:07:25.928491Z",
     "iopub.status.busy": "2023-08-01T00:07:25.928041Z",
     "iopub.status.idle": "2023-08-01T00:08:07.183475Z",
     "shell.execute_reply": "2023-08-01T00:08:07.182310Z"
    },
    "papermill": {
     "duration": 43.479075,
     "end_time": "2023-08-01T00:08:07.185664",
     "exception": false,
     "start_time": "2023-08-01T00:07:23.706589",
     "status": "completed"
    },
    "tags": []
   },
   "outputs": [
    {
     "ename": "",
     "evalue": "",
     "output_type": "error",
     "traceback": [
      "\u001b[1;31mFailed to start the Kernel. \n",
      "\u001b[1;31mKernel Python 3.10.0 is not usable. Check the Jupyter output tab for more information. \n",
      "\u001b[1;31mView Jupyter <a href='command:jupyter.viewOutput'>log</a> for further details."
     ]
    }
   ],
   "source": [
    "# Evaluate models\n",
    "test_accuracy = model.evaluate(x_test)[1] * 100\n",
    "print('Test accuracy is : ',test_accuracy, '%' )"
   ]
  },
  {
   "cell_type": "code",
   "execution_count": null,
   "id": "b2d61f4d",
   "metadata": {
    "execution": {
     "iopub.execute_input": "2023-08-01T00:08:10.837136Z",
     "iopub.status.busy": "2023-08-01T00:08:10.836727Z",
     "iopub.status.idle": "2023-08-01T00:08:27.002675Z",
     "shell.execute_reply": "2023-08-01T00:08:27.001659Z"
    },
    "papermill": {
     "duration": 17.998335,
     "end_time": "2023-08-01T00:08:27.005060",
     "exception": false,
     "start_time": "2023-08-01T00:08:09.006725",
     "status": "completed"
    },
    "tags": []
   },
   "outputs": [
    {
     "ename": "",
     "evalue": "",
     "output_type": "error",
     "traceback": [
      "\u001b[1;31mFailed to start the Kernel. \n",
      "\u001b[1;31mKernel Python 3.10.0 is not usable. Check the Jupyter output tab for more information. \n",
      "\u001b[1;31mView Jupyter <a href='command:jupyter.viewOutput'>log</a> for further details."
     ]
    }
   ],
   "source": [
    "probability_model = tf.keras.Sequential([model,tf.keras.layers.Softmax()])\n",
    "predictions = probability_model.predict(x_test)"
   ]
  },
  {
   "cell_type": "code",
   "execution_count": null,
   "id": "8e24893e",
   "metadata": {
    "execution": {
     "iopub.execute_input": "2023-08-01T00:08:31.121116Z",
     "iopub.status.busy": "2023-08-01T00:08:31.120180Z",
     "iopub.status.idle": "2023-08-01T00:08:31.128218Z",
     "shell.execute_reply": "2023-08-01T00:08:31.126601Z"
    },
    "papermill": {
     "duration": 1.79808,
     "end_time": "2023-08-01T00:08:31.130377",
     "exception": false,
     "start_time": "2023-08-01T00:08:29.332297",
     "status": "completed"
    },
    "tags": []
   },
   "outputs": [
    {
     "ename": "",
     "evalue": "",
     "output_type": "error",
     "traceback": [
      "\u001b[1;31mFailed to start the Kernel. \n",
      "\u001b[1;31mKernel Python 3.10.0 is not usable. Check the Jupyter output tab for more information. \n",
      "\u001b[1;31mView Jupyter <a href='command:jupyter.viewOutput'>log</a> for further details."
     ]
    }
   ],
   "source": [
    "# Make predictions\n",
    "print(\"Prediction(0)\",predictions[0])\n",
    "print(\"Prediction(1)\",np.argmax(predictions[0]))\n",
    "print(\"Prediction(2)\",categories[np.argmax(predictions[0])])\n",
    "print(\"\")"
   ]
  },
  {
   "cell_type": "code",
   "execution_count": null,
   "id": "a75ba938",
   "metadata": {
    "papermill": {
     "duration": 1.849947,
     "end_time": "2023-08-01T00:08:34.848024",
     "exception": false,
     "start_time": "2023-08-01T00:08:32.998077",
     "status": "completed"
    },
    "tags": []
   },
   "outputs": [
    {
     "ename": "",
     "evalue": "",
     "output_type": "error",
     "traceback": [
      "\u001b[1;31mFailed to start the Kernel. \n",
      "\u001b[1;31mKernel Python 3.10.0 is not usable. Check the Jupyter output tab for more information. \n",
      "\u001b[1;31mView Jupyter <a href='command:jupyter.viewOutput'>log</a> for further details."
     ]
    }
   ],
   "source": []
  }
 ],
 "metadata": {
  "kernelspec": {
   "display_name": "Python 3 (ipykernel)",
   "language": "python",
   "name": "python3"
  },
  "language_info": {
   "codemirror_mode": {
    "name": "ipython",
    "version": 3
   },
   "file_extension": ".py",
   "mimetype": "text/x-python",
   "name": "python",
   "nbconvert_exporter": "python",
   "pygments_lexer": "ipython3",
   "version": "3.11.3"
  },
  "papermill": {
   "default_parameters": {},
   "duration": 2790.288436,
   "end_time": "2023-08-01T00:08:40.254582",
   "environment_variables": {},
   "exception": null,
   "input_path": "__notebook__.ipynb",
   "output_path": "__notebook__.ipynb",
   "parameters": {},
   "start_time": "2023-07-31T23:22:09.966146",
   "version": "2.4.0"
  },
  "vscode": {
   "interpreter": {
    "hash": "aee8b7b246df8f9039afb4144a1f6fd8d2ca17a180786b69acc140d282b71a49"
   }
  }
 },
 "nbformat": 4,
 "nbformat_minor": 5
}
